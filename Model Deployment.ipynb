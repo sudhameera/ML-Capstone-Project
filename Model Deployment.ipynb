{
 "cells": [
  {
   "cell_type": "code",
   "execution_count": 1,
   "id": "d565bfbf",
   "metadata": {},
   "outputs": [],
   "source": [
    "import pickle\n",
    "loaded_model=pickle.load(open('Good_Model.sav','rb'))"
   ]
  },
  {
   "cell_type": "code",
   "execution_count": 2,
   "id": "8a10aa22",
   "metadata": {},
   "outputs": [
    {
     "name": "stderr",
     "output_type": "stream",
     "text": [
      "C:\\Users\\venka\\anaconda3\\envs\\aiml\\lib\\site-packages\\sklearn\\utils\\fixes.py:230: DeprecationWarning: distutils Version classes are deprecated. Use packaging.version instead.\n",
      "  if _joblib.__version__ >= LooseVersion('0.12'):\n"
     ]
    },
    {
     "data": {
      "text/plain": [
       "array([36.])"
      ]
     },
     "execution_count": 2,
     "metadata": {},
     "output_type": "execute_result"
    }
   ],
   "source": [
    "output=loaded_model.predict([[1,1,0,1,0,0,1,1,1,0,1,0,1,0,0,1,1,0,1,0,1,0,1,1,0]])\n",
    "output"
   ]
  },
  {
   "cell_type": "code",
   "execution_count": 5,
   "id": "50d6dead",
   "metadata": {},
   "outputs": [],
   "source": [
    "import pandas as pd\n",
    "data_test=pd.read_csv('Testing.csv')"
   ]
  },
  {
   "cell_type": "code",
   "execution_count": 6,
   "id": "83b4e8bd",
   "metadata": {},
   "outputs": [
    {
     "data": {
      "text/plain": [
       "['Tuberculosis']"
      ]
     },
     "execution_count": 6,
     "metadata": {},
     "output_type": "execute_result"
    }
   ],
   "source": [
    "from sklearn.preprocessing import LabelEncoder\n",
    "encoder = LabelEncoder()\n",
    "data_test['prognosis']=encoder.fit_transform(data_test['prognosis'])\n",
    "\n",
    "list(encoder.inverse_transform([36]))"
   ]
  }
 ],
 "metadata": {
  "kernelspec": {
   "display_name": "Python 3 (ipykernel)",
   "language": "python",
   "name": "python3"
  },
  "language_info": {
   "codemirror_mode": {
    "name": "ipython",
    "version": 3
   },
   "file_extension": ".py",
   "mimetype": "text/x-python",
   "name": "python",
   "nbconvert_exporter": "python",
   "pygments_lexer": "ipython3",
   "version": "3.7.6"
  }
 },
 "nbformat": 4,
 "nbformat_minor": 5
}
